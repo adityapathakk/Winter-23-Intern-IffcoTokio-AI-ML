{
 "cells": [
  {
   "cell_type": "markdown",
   "id": "0d239135-3718-4b36-b372-1ad675b1bd66",
   "metadata": {},
   "source": [
    "<b><h3>To-do/Notes</h3></b>\n",
    "\n",
    "- <s>keep last duplicate of primaryKey</s>\n",
    "- <s>change states data - for eg. change bih to bihar, andhra pra to andra pradesh, etc; less frequency states -> others?</s>\n",
    "- think about what to do with nan state values, maybe discard the ones which have nan for city values too\n",
    "- do the same for contact 2, 3\n",
    "\n",
    "Progress marked with checkpoints (Jan 2, 2024)"
   ]
  },
  {
   "cell_type": "markdown",
   "id": "3b7690a0-058c-40ba-b02a-e7a5d5e2af12",
   "metadata": {},
   "source": [
    "<hr>"
   ]
  },
  {
   "cell_type": "code",
   "execution_count": 1,
   "id": "d22b3ee2-74b5-4d25-ae98-3bf4d6a7a8a2",
   "metadata": {},
   "outputs": [],
   "source": [
    "import os\n",
    "import pandas as pd"
   ]
  },
  {
   "cell_type": "code",
   "execution_count": 2,
   "id": "352546a7-dcb7-4d36-ba0f-5b2c0696254f",
   "metadata": {},
   "outputs": [
    {
     "ename": "FileNotFoundError",
     "evalue": "[WinError 3] The system cannot find the path specified: 'C:\\\\Users\\\\---\\\\Desktop\\\\crossSelling\\\\data'",
     "output_type": "error",
     "traceback": [
      "\u001b[1;31m---------------------------------------------------------------------------\u001b[0m",
      "\u001b[1;31mFileNotFoundError\u001b[0m                         Traceback (most recent call last)",
      "Cell \u001b[1;32mIn[2], line 1\u001b[0m\n\u001b[1;32m----> 1\u001b[0m listFiles \u001b[38;5;241m=\u001b[39m \u001b[43mos\u001b[49m\u001b[38;5;241;43m.\u001b[39;49m\u001b[43mlistdir\u001b[49m\u001b[43m(\u001b[49m\u001b[38;5;124;43mr\u001b[39;49m\u001b[38;5;124;43m'\u001b[39;49m\u001b[38;5;124;43mC:\u001b[39;49m\u001b[38;5;124;43m\\\u001b[39;49m\u001b[38;5;124;43mUsers\u001b[39;49m\u001b[38;5;124;43m\\\u001b[39;49m\u001b[38;5;124;43m---\u001b[39;49m\u001b[38;5;124;43m\\\u001b[39;49m\u001b[38;5;124;43mDesktop\u001b[39;49m\u001b[38;5;124;43m\\\u001b[39;49m\u001b[38;5;124;43mcrossSelling\u001b[39;49m\u001b[38;5;124;43m\\\u001b[39;49m\u001b[38;5;124;43mdata\u001b[39;49m\u001b[38;5;124;43m'\u001b[39;49m\u001b[43m)\u001b[49m\n",
      "\u001b[1;31mFileNotFoundError\u001b[0m: [WinError 3] The system cannot find the path specified: 'C:\\\\Users\\\\---\\\\Desktop\\\\crossSelling\\\\data'"
     ]
    }
   ],
   "source": [
    "listFiles = os.listdir(r'C:\\Users\\---\\Desktop\\crossSelling\\data')"
   ]
  },
  {
   "cell_type": "code",
   "execution_count": null,
   "id": "1a08d708-5f68-4e7d-a350-c34e3574f7db",
   "metadata": {},
   "outputs": [],
   "source": [
    "basePath = r'C:\\Users\\---\\Desktop\\crossSelling\\data'"
   ]
  },
  {
   "cell_type": "code",
   "execution_count": null,
   "id": "c10c5dc7-38b0-49f0-abf5-61e5d202f3ee",
   "metadata": {},
   "outputs": [],
   "source": [
    "listFiles"
   ]
  },
  {
   "cell_type": "markdown",
   "id": "cb637495-a030-4aca-87fb-5e7736f08b27",
   "metadata": {},
   "source": [
    "<hr>"
   ]
  },
  {
   "cell_type": "markdown",
   "id": "9c2fb41d-1667-48ea-9013-793e15c8cd1b",
   "metadata": {},
   "source": [
    "<h3><b>Exploring Contact 1</b></h3>"
   ]
  },
  {
   "cell_type": "code",
   "execution_count": null,
   "id": "8bccf062-0d0d-41f8-bd28-efe96bcf7d74",
   "metadata": {},
   "outputs": [],
   "source": [
    "contact1 = pd.read_csv(basePath + '---')"
   ]
  },
  {
   "cell_type": "code",
   "execution_count": null,
   "id": "eccb6f5f-f2cb-4bbe-9242-f98b032b55f9",
   "metadata": {},
   "outputs": [],
   "source": [
    "contact1.head()"
   ]
  },
  {
   "cell_type": "code",
   "execution_count": null,
   "id": "4c402ad7-bd37-4435-b043-4220448b76be",
   "metadata": {},
   "outputs": [],
   "source": [
    "contact1.shape"
   ]
  },
  {
   "cell_type": "code",
   "execution_count": null,
   "id": "18082c3d-96e6-480f-8d47-e3f112e66dca",
   "metadata": {},
   "outputs": [],
   "source": [
    "contact1.columns"
   ]
  },
  {
   "cell_type": "code",
   "execution_count": null,
   "id": "51f48f82-c3c0-4087-97c8-479ff110c07a",
   "metadata": {},
   "outputs": [],
   "source": [
    "contact1[contact1['primaryKey']=='someValue']"
   ]
  },
  {
   "cell_type": "code",
   "execution_count": null,
   "id": "cd9f94aa-10bd-46b0-86bc-90b03efd1ff3",
   "metadata": {},
   "outputs": [],
   "source": [
    "contact1['primaryKey'].duplicated().sum()"
   ]
  },
  {
   "cell_type": "code",
   "execution_count": null,
   "id": "ba5cf6d4-55b9-4766-8bcd-9849dd4be6d0",
   "metadata": {},
   "outputs": [],
   "source": [
    "contact1 = contact1.drop_duplicates(subset=[\"primaryKey\"], keep = \"last\")"
   ]
  },
  {
   "cell_type": "markdown",
   "id": "b20a131e-7455-4478-bce7-51edffe2830a",
   "metadata": {},
   "source": [
    "<h4><b>Kept last duplicate of 'primaryKey' as it's the last updated record of the customer</b></h4>"
   ]
  },
  {
   "cell_type": "code",
   "execution_count": null,
   "id": "4e8b21fe-c20e-4a7e-9a52-8618c940fdd0",
   "metadata": {},
   "outputs": [],
   "source": [
    "contact1.shape"
   ]
  },
  {
   "cell_type": "code",
   "execution_count": null,
   "id": "d00274ad-a122-4620-aa57-5ae6eae04256",
   "metadata": {},
   "outputs": [],
   "source": [
    "contact1['STATE'].unique()"
   ]
  },
  {
   "cell_type": "code",
   "execution_count": null,
   "id": "dc052df0-f996-4133-9a56-bf04a1ec8058",
   "metadata": {},
   "outputs": [],
   "source": [
    "contact1['STATE'].shape"
   ]
  },
  {
   "cell_type": "code",
   "execution_count": null,
   "id": "f4247bb2-d4e6-45cb-b9e6-dc36b146458d",
   "metadata": {},
   "outputs": [],
   "source": [
    "contact1['STATE'].isna().sum()"
   ]
  },
  {
   "cell_type": "code",
   "execution_count": null,
   "id": "fad75aa5-a027-48a7-9559-4994cc9d3c9a",
   "metadata": {},
   "outputs": [],
   "source": [
    "contact1['STATE'] = contact1['STATE'].map({\"KARNATAKA\" : \"KARNATAKA\", \"ODISHA\" : \"ODISHA\", \"CHHATTISGA\" : \"CHHATTISGARH\",\n",
    "\"RAJASTHAN\" : \"RAJASTHAN\", \"HARYANA\" : \"HARYANA\", \"UTTAR PRAD\" : \"UTTAR PRADESH\",\n",
    "\"MADHYA PRA\" : \"MADHYA PRADESH\", \"JHARKHAND\" : \"JHARKHAND\", \"GUJARAT\" : \"GUJARAT\", \"J & K\" : \"JAMMU & KASHMIR\",\n",
    "\"MAHARASHTR\" : \"MAHARASHTRA\", \"TAMILNADU\" : \"TAMIL NADU\", \"W BENGAL\" : \"WEST BENGAL\", \"SIKKIM\" : \"SIKKIM\",\n",
    "\"PUNJAB\" : \"PUNJAB\", \"GOA\" : \"GOA\", \"TELANGANA\" : \"TELANGANA\", \"KERALA\" : \"KERALA\", \"BIHAR\" : \"BIHAR\",\n",
    "\"ANDHRA PRA\" : \"ANDHRA PRADESH\", \"HIMACHAL P\" : \"HIMACHAL PRADESH\", \"NEW DELHI\" : \"NEW DELHI\",\n",
    "\"UTTRANCHAL\" : \"UTTARAKHAND\", \"ASSAM\" : \"ASSAM\", \"PONDICHERY\" : \"PONDICHERRY\", \"ORISSA\" : \"ODISHA\", \"MEGHALAYA\" : \"MEGHALAYA\", \n",
    "\"NAGALAND\" : \"NAGALAND\", \"DELHI\" : \"NEW DELHI\", \"MIZORAM\" : \"MIZORAM\", \"TAMIL NADU\" : \"TAMIL NADU\", \"AND & NICO\" : \"ANDAMAN & NICOBAR\",\n",
    "\"DAMAN\" : \"DAMAN & DIU\", \"DN HAVELI\" : \"DADRA & NAGAR HAVELI\", \"ARUNACHAL\" : \"ARUNACHAL PRADESH\", \"CHANDIGARH\" : \"CHANDIGARH\", \"TRIPURA\" : \"TRIPURA\",\n",
    "\"WEST BENGA\" : \"WEST BENGAL\", \"MANIPUR\" : \"MANIPUR\", \"ORS\" : \"ODISHA\", \"JAMMU & KA\" : \"JAMMU & KASHMIR\", \"LADAKH\" : \"LADAKH\", \"ASS\" : \"ASSAM\",\n",
    "\"DADRA AND\" : \"DADRA & NAGAR HAVELI\", \"TN\" : \"TAMIL NADU\", \"DAMAN AND\" : \"DAMAN & DIU\", \"LAKSHWADEP\" : \"LAKSHWADEEP\", \"PUDUCHERRY\" : \"PUDUCHERRY\",\n",
    "\"UTTARAKHAN\" : \"UTTARAKHAND\", \"JAR\" : \"JHARKHAND\", \"KAR\" : \"KARNATAKA\", \"MAHA\" : \"MAHARASHTRA\", \"MAH\" : \"MAHARASHTRA\", \"RAJ\" : \"RAJASTHAN\",\n",
    "\"Rajasthan\" : \"RAJASTHAN\", \"MP\" : \"MADHYA PRADESH\", \"GUJ\" : \"GUJARAT\", \"UP\" : \"UTTAR PRADESH\", \"ND\" : \"NEW DELHI\", \"HAR\" : \"HARYANA\",\n",
    "\"WB\" : \"WEST BENGAL\", \"TS\" : \"TELANGANA\", \"UTT\" : \"UTTARAKHAND\", \"PNJ\" : \"PUNJAB\", \"HP\" : \"HIMACHAL PRADESH\", \"AP\" : \"ANDHRA PRADESH\",\n",
    "\"PND\" : \"PONDICHERRY\", \"MAHAR\" : \"MAHARASHTRA\", \"ANDAMAN &\" : \"ANDAMAN & NICOBAR\", \"KER\" : \"KERALA\",\n",
    "\"VH\" : \"OTHERS\", \"J&K\" : \"JAMMU & KASHMIR\", \"BIH\" : \"BIHAR\", \"A&N\" : \"ANDAMAN & NICOBAR\", \"CHD\" : \"CHANDIGARH\", \"MEG\" : \"MEGHALAYA\"})"
   ]
  },
  {
   "cell_type": "markdown",
   "id": "e99affa2-125c-41b5-9501-418b7cef9d12",
   "metadata": {},
   "source": [
    "<h4><b>Normalised state's data</b></h4>"
   ]
  },
  {
   "cell_type": "code",
   "execution_count": null,
   "id": "42e3636f-a6fb-4d78-8fab-cf852205780e",
   "metadata": {},
   "outputs": [],
   "source": [
    "contact1['STATE'].value_counts()"
   ]
  },
  {
   "cell_type": "code",
   "execution_count": null,
   "id": "1d826958-2c79-4ab4-a9f2-8ee4ee2f417a",
   "metadata": {},
   "outputs": [],
   "source": [
    "contact1['STATE'].shape"
   ]
  },
  {
   "cell_type": "code",
   "execution_count": null,
   "id": "fab5959a-fb90-4fe9-bd45-5965e168de72",
   "metadata": {},
   "outputs": [],
   "source": [
    "contact1['STATE'].isna().value_counts()"
   ]
  },
  {
   "cell_type": "code",
   "execution_count": null,
   "id": "5db68a7b-3dc6-4c53-9aef-f9dbb67a2fe9",
   "metadata": {},
   "outputs": [],
   "source": [
    "StateFreq = (contact1['STATE'].value_counts())/contact1.shape[0]\n",
    "bottom_decile = StateFreq.quantile(q=0.1)\n",
    "lessFreqStates = StateFreq[StateFreq<=bottom_decile]\n",
    "contact1.loc[contact1[\"STATE\"].isin(lessFreqStates.index.tolist())] = \"OTHER\"\n",
    "lessFreqStates"
   ]
  },
  {
   "cell_type": "code",
   "execution_count": null,
   "id": "9b48e13b-c1a4-4cc7-85e2-ecd89f1e7f5e",
   "metadata": {},
   "outputs": [],
   "source": [
    "contact1['STATE'].value_counts()"
   ]
  },
  {
   "cell_type": "code",
   "execution_count": null,
   "id": "1885b30a-cac9-4985-b20a-5aea03e2c17e",
   "metadata": {},
   "outputs": [],
   "source": [
    "contact1['STATE'].unique()"
   ]
  },
  {
   "cell_type": "code",
   "execution_count": null,
   "id": "4c207d77-97d8-43d8-94e7-de24342653f4",
   "metadata": {},
   "outputs": [],
   "source": [
    "contact1[(contact1['STATE'].isna() == True)].nunique()"
   ]
  },
  {
   "cell_type": "markdown",
   "id": "efe9f6fc-d728-4c68-bdcd-b35ebe44ec71",
   "metadata": {},
   "source": [
    "Checkpoint - January 2, 2024"
   ]
  }
 ],
 "metadata": {
  "kernelspec": {
   "display_name": "Python 3 (ipykernel)",
   "language": "python",
   "name": "python3"
  },
  "language_info": {
   "codemirror_mode": {
    "name": "ipython",
    "version": 3
   },
   "file_extension": ".py",
   "mimetype": "text/x-python",
   "name": "python",
   "nbconvert_exporter": "python",
   "pygments_lexer": "ipython3",
   "version": "3.12.0"
  }
 },
 "nbformat": 4,
 "nbformat_minor": 5
}
