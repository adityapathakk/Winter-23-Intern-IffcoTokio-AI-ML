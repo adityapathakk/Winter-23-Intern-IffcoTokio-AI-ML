{
 "cells": [
  {
   "cell_type": "markdown",
   "id": "8a0b7a96-8396-4c3e-8f39-b22d6054c992",
   "metadata": {},
   "source": [
    "<h1>CrossSelling-Project</h1>\n",
    "This notebook has been stripped off all data related to \"Iffco Tokio General Insurance Co. Ltd.\".<br>\n",
    "It contains a simple, incomplete skeleton of code that I wrote for some data cleaning."
   ]
  },
  {
   "cell_type": "markdown",
   "id": "83d38843-4525-4fb9-a9b4-0044732b0167",
   "metadata": {},
   "source": [
    "<h3><b>To-do/Notes</b></h3>\n",
    "\n",
    "- get unique rows for primaryKey\n",
    "- <s>convert date with datetime - yearMax - keep recent year data</s> 2022 not always the most recent data & not always majority of data, what to do then\n",
    "- <s>remove rows with nan values in coverage name</s>\n",
    "- <s>concatenate all coverage dataframes into one</s> name of overall dataframe: coverageData\n",
    "\n",
    "Progress marked with checkpoints (Jan 1-2, 2024)"
   ]
  },
  {
   "cell_type": "markdown",
   "id": "eb96da57-3048-4cf6-a1a8-1961880433ff",
   "metadata": {},
   "source": [
    "<hr>"
   ]
  },
  {
   "cell_type": "code",
   "execution_count": 1,
   "id": "2a0a4dc2-95ee-401a-8b15-ce5372162cd1",
   "metadata": {},
   "outputs": [],
   "source": [
    "import os\n",
    "import pandas as pd"
   ]
  },
  {
   "cell_type": "code",
   "execution_count": 2,
   "id": "3d938123-df5d-4026-b660-42ff808ebdcd",
   "metadata": {},
   "outputs": [
    {
     "ename": "FileNotFoundError",
     "evalue": "[WinError 3] The system cannot find the path specified: 'C:\\\\Users\\\\---\\\\Desktop\\\\crossSelling\\\\data'",
     "output_type": "error",
     "traceback": [
      "\u001b[1;31m---------------------------------------------------------------------------\u001b[0m",
      "\u001b[1;31mFileNotFoundError\u001b[0m                         Traceback (most recent call last)",
      "Cell \u001b[1;32mIn[2], line 1\u001b[0m\n\u001b[1;32m----> 1\u001b[0m listFiles \u001b[38;5;241m=\u001b[39m \u001b[43mos\u001b[49m\u001b[38;5;241;43m.\u001b[39;49m\u001b[43mlistdir\u001b[49m\u001b[43m(\u001b[49m\u001b[38;5;124;43mr\u001b[39;49m\u001b[38;5;124;43m'\u001b[39;49m\u001b[38;5;124;43mC:\u001b[39;49m\u001b[38;5;124;43m\\\u001b[39;49m\u001b[38;5;124;43mUsers\u001b[39;49m\u001b[38;5;124;43m\\\u001b[39;49m\u001b[38;5;124;43m---\u001b[39;49m\u001b[38;5;124;43m\\\u001b[39;49m\u001b[38;5;124;43mDesktop\u001b[39;49m\u001b[38;5;124;43m\\\u001b[39;49m\u001b[38;5;124;43mcrossSelling\u001b[39;49m\u001b[38;5;124;43m\\\u001b[39;49m\u001b[38;5;124;43mdata\u001b[39;49m\u001b[38;5;124;43m'\u001b[39;49m\u001b[43m)\u001b[49m\n",
      "\u001b[1;31mFileNotFoundError\u001b[0m: [WinError 3] The system cannot find the path specified: 'C:\\\\Users\\\\---\\\\Desktop\\\\crossSelling\\\\data'"
     ]
    }
   ],
   "source": [
    "listFiles = os.listdir(r'C:\\Users\\---\\Desktop\\crossSelling\\data')"
   ]
  },
  {
   "cell_type": "code",
   "execution_count": null,
   "id": "37d7712e-9af2-419c-a80f-96cd5237a5b9",
   "metadata": {},
   "outputs": [],
   "source": [
    "basePath = r'C:\\Users\\---\\Desktop\\crossSelling\\data'"
   ]
  },
  {
   "cell_type": "code",
   "execution_count": null,
   "id": "86dabc0a-19cd-4fab-b51a-e22be205c87f",
   "metadata": {},
   "outputs": [],
   "source": [
    "listFiles"
   ]
  },
  {
   "cell_type": "markdown",
   "id": "d078663e-ea50-4c24-918a-1c5183077172",
   "metadata": {},
   "source": [
    "<hr>\n",
    "<h3><b>Exploring Coverage 1</b></h3>"
   ]
  },
  {
   "cell_type": "code",
   "execution_count": null,
   "id": "bbcfb803-6d8e-40b8-bd82-912e4635d556",
   "metadata": {},
   "outputs": [],
   "source": [
    "coverage1 = pd.read_csv(basePath + listFiles[3])"
   ]
  },
  {
   "cell_type": "code",
   "execution_count": null,
   "id": "df4e8246-e7c3-4051-be9b-2a39103d7823",
   "metadata": {},
   "outputs": [],
   "source": [
    "coverage1.head()"
   ]
  },
  {
   "cell_type": "code",
   "execution_count": null,
   "id": "d9fe0d83-962a-4191-8eb3-0ffa06eb7d40",
   "metadata": {},
   "outputs": [],
   "source": [
    "coverage1['primaryKey'].duplicated()#.sum()"
   ]
  },
  {
   "cell_type": "code",
   "execution_count": null,
   "id": "d8aaefe6-0dde-4c5b-90dd-d9dc5625dd0f",
   "metadata": {},
   "outputs": [],
   "source": [
    "((coverage1['---'].isna().sum())/(coverage1.shape[0]))*100"
   ]
  },
  {
   "cell_type": "code",
   "execution_count": null,
   "id": "440937b9-6697-4379-8fce-e77318e0c137",
   "metadata": {},
   "outputs": [],
   "source": [
    "coverage1['---'].isna().sum()"
   ]
  },
  {
   "cell_type": "code",
   "execution_count": null,
   "id": "c67e47ab-a585-4038-82a0-2b4acaad76fd",
   "metadata": {},
   "outputs": [],
   "source": [
    "coverage1['date'].str.split('-',expand = True)[0].value_counts()"
   ]
  },
  {
   "cell_type": "code",
   "execution_count": null,
   "id": "df72603c-0747-4b34-a815-cfac37f66a2f",
   "metadata": {},
   "outputs": [],
   "source": [
    "coverage1.shape"
   ]
  },
  {
   "cell_type": "code",
   "execution_count": null,
   "id": "80ef4763-f478-4c64-a583-cc34539a6392",
   "metadata": {},
   "outputs": [],
   "source": [
    "coverage1[coverage1['primaryKey'] == 'someValue']"
   ]
  },
  {
   "cell_type": "code",
   "execution_count": null,
   "id": "bddae45e-7601-40f7-8504-3d58fa3ecdbe",
   "metadata": {},
   "outputs": [],
   "source": [
    "coverage1.dropna(subset = '---', inplace = True)"
   ]
  },
  {
   "cell_type": "code",
   "execution_count": null,
   "id": "7cfcd8f7-3fc4-4ee4-a3a6-e1168d7040ce",
   "metadata": {},
   "outputs": [],
   "source": [
    "coverage1[coverage1['primaryKey'] == 'someValue']"
   ]
  },
  {
   "cell_type": "code",
   "execution_count": null,
   "id": "c712f0d9-9cf5-4985-82a0-dc32abe246db",
   "metadata": {},
   "outputs": [],
   "source": [
    "coverage1.shape"
   ]
  },
  {
   "cell_type": "markdown",
   "id": "5e4883dd-b678-45c2-9171-fd17563173eb",
   "metadata": {},
   "source": [
    "<h4><b>NaN values removed from Coverage 1</b></h4>"
   ]
  },
  {
   "cell_type": "code",
   "execution_count": null,
   "id": "d62eb993-a29a-4452-9b2c-2c3b7e7ab467",
   "metadata": {},
   "outputs": [],
   "source": [
    "coverage1.info()"
   ]
  },
  {
   "cell_type": "code",
   "execution_count": null,
   "id": "f979584b-2bc2-4570-8955-21033f598537",
   "metadata": {},
   "outputs": [],
   "source": [
    "coverage1['date'] = pd.to_datetime(coverage1['date'], format = \"%Y-%m-%d-%H.%M.%S.000000\", exact = True)"
   ]
  },
  {
   "cell_type": "code",
   "execution_count": null,
   "id": "0dd88283-a732-40bf-94b3-dcad5366f7b6",
   "metadata": {},
   "outputs": [],
   "source": [
    "coverage1.info()"
   ]
  },
  {
   "cell_type": "markdown",
   "id": "9c1b35bc-74a0-49c3-ab2f-838694d948ab",
   "metadata": {},
   "source": [
    "<h4><b>'date' datatype converted to datetime</b></h4>"
   ]
  },
  {
   "cell_type": "code",
   "execution_count": null,
   "id": "dc48d602-e3f6-4388-91ff-946cfcf144b7",
   "metadata": {},
   "outputs": [],
   "source": [
    "coverage1.head()"
   ]
  },
  {
   "cell_type": "code",
   "execution_count": null,
   "id": "ae71649a-bf0e-4c10-b25f-b3f30ced4e7a",
   "metadata": {},
   "outputs": [],
   "source": [
    "coverage1['date'].dt.year.value_counts()"
   ]
  },
  {
   "cell_type": "code",
   "execution_count": null,
   "id": "524bc73f-9102-4a1a-b961-cf353dadb453",
   "metadata": {},
   "outputs": [],
   "source": [
    "coverage1 = coverage1[coverage1['date'].dt.year == 2022]"
   ]
  },
  {
   "cell_type": "code",
   "execution_count": null,
   "id": "5e9e725b-bc3c-4d67-96b9-8ffd15daa6ea",
   "metadata": {},
   "outputs": [],
   "source": [
    "coverage1.shape"
   ]
  },
  {
   "cell_type": "markdown",
   "id": "53f9e5b9-8e31-4156-9389-50f042b64ef2",
   "metadata": {},
   "source": [
    "<h4><b>Keeping data from 2022, as majority of the data is from 2022 - the most recent year</b></h4>\n",
    "Doing the same for all dataframes"
   ]
  },
  {
   "cell_type": "markdown",
   "id": "827353ce-ba63-459c-abbd-c0ef98ddb07c",
   "metadata": {},
   "source": [
    "<hr>\n",
    "<h3><b>Working on Coverage 2</b></h3>"
   ]
  },
  {
   "cell_type": "code",
   "execution_count": null,
   "id": "a45c5465-8a80-4a44-a90f-0cfde1e2f54d",
   "metadata": {},
   "outputs": [],
   "source": [
    "coverage2 = pd.read_csv(basePath + listFiles[8])"
   ]
  },
  {
   "cell_type": "code",
   "execution_count": null,
   "id": "173557ed-d66f-40bb-aa3c-ef8579f1dde6",
   "metadata": {},
   "outputs": [],
   "source": [
    "coverage2.shape "
   ]
  },
  {
   "cell_type": "code",
   "execution_count": null,
   "id": "eabd2c93-8cd3-4a71-9e56-dfd9db6bbc8b",
   "metadata": {},
   "outputs": [],
   "source": [
    "coverage2.head()"
   ]
  },
  {
   "cell_type": "code",
   "execution_count": null,
   "id": "096ecb53-76a6-4790-ae25-707224b309fe",
   "metadata": {},
   "outputs": [],
   "source": [
    "coverage2['---'].isna().sum()"
   ]
  },
  {
   "cell_type": "code",
   "execution_count": null,
   "id": "11e27843-e533-4c6f-8065-f4e41e0f6366",
   "metadata": {},
   "outputs": [],
   "source": [
    "coverage2.dropna(subset = '---', inplace = True)"
   ]
  },
  {
   "cell_type": "code",
   "execution_count": null,
   "id": "c8f9e447-0c75-4c79-9f9f-39bc8351fc8e",
   "metadata": {},
   "outputs": [],
   "source": [
    "coverage2.shape"
   ]
  },
  {
   "cell_type": "code",
   "execution_count": null,
   "id": "3795d0f1-3a51-4716-af44-1d8751d23e84",
   "metadata": {},
   "outputs": [],
   "source": [
    "coverage2.info()"
   ]
  },
  {
   "cell_type": "code",
   "execution_count": null,
   "id": "e2679b00-6478-4335-862b-ce58c62b1c7a",
   "metadata": {},
   "outputs": [],
   "source": [
    "coverage2['date'] = pd.to_datetime(coverage2['date'], format = \"%Y-%m-%d-%H.%M.%S.000000\", exact = True)"
   ]
  },
  {
   "cell_type": "code",
   "execution_count": null,
   "id": "4a3040c7-f169-41d0-9aa8-a4c1f655ef5c",
   "metadata": {},
   "outputs": [],
   "source": [
    "coverage2.info()"
   ]
  },
  {
   "cell_type": "code",
   "execution_count": null,
   "id": "c571280d-6609-4849-a9ac-4070a47b2867",
   "metadata": {},
   "outputs": [],
   "source": [
    "coverage2['date'].dt.year.value_counts()"
   ]
  },
  {
   "cell_type": "code",
   "execution_count": null,
   "id": "2d5e2319-3ccb-4294-ad13-24db8e9bcc53",
   "metadata": {},
   "outputs": [],
   "source": [
    "coverage2 = coverage2[coverage2['date'].dt.year == 2022]"
   ]
  },
  {
   "cell_type": "code",
   "execution_count": null,
   "id": "9befc959-6446-40f9-acf2-9969ca042eaf",
   "metadata": {},
   "outputs": [],
   "source": [
    "coverage2.shape"
   ]
  },
  {
   "cell_type": "markdown",
   "id": "bf99cfba-7891-432d-928f-e889bf27c75d",
   "metadata": {},
   "source": [
    "<b>NaN values removed from Coverage 2</b><br>\n",
    "<b>'date' datatype converted to datetime</b><br>\n",
    "<b>Keeping data from 2022, as majority of the data is from 2022 - the most recent year</b>\n",
    "<br>"
   ]
  },
  {
   "cell_type": "markdown",
   "id": "4c582a1e-22f2-40a0-8bce-b0d0df320255",
   "metadata": {},
   "source": [
    "<hr>\n",
    "<h3><b>Concatenating all 'Coverage' Dataframes</b></h3>"
   ]
  },
  {
   "cell_type": "code",
   "execution_count": null,
   "id": "ea900f1a-d120-4738-ac1c-00d5e241f5fe",
   "metadata": {},
   "outputs": [],
   "source": [
    "coverageData = pd.concat([coverage1, coverage2, coverage3, coverage4, coverage5, coverage6, coverage7], ignore_index = True)"
   ]
  },
  {
   "cell_type": "code",
   "execution_count": null,
   "id": "68f611f2-4389-4ee9-804c-40886327edb6",
   "metadata": {},
   "outputs": [],
   "source": [
    "(coverage1.shape[0] + coverage2.shape[0] + coverage3.shape[0] + coverage4.shape[0] + coverage5.shape[0] + coverage6.shape[0] + coverage7.shape[0])"
   ]
  },
  {
   "cell_type": "code",
   "execution_count": null,
   "id": "9179a2dd-cda3-4f5f-9fce-71f059efcdcf",
   "metadata": {},
   "outputs": [],
   "source": [
    "coverageData.shape"
   ]
  },
  {
   "cell_type": "code",
   "execution_count": null,
   "id": "f93030fa-a679-4f8c-8dc7-8080a67f1e01",
   "metadata": {},
   "outputs": [],
   "source": [
    "coverageData.info()"
   ]
  },
  {
   "cell_type": "code",
   "execution_count": null,
   "id": "8fd2a99e-b04b-457b-b155-5132ccc9953c",
   "metadata": {},
   "outputs": [],
   "source": [
    "coverageData.isna().sum()"
   ]
  },
  {
   "cell_type": "markdown",
   "id": "b41ccada-412b-4338-ad58-25fee94ff5b0",
   "metadata": {},
   "source": [
    "Will SumInsured NaN values affect us?"
   ]
  },
  {
   "cell_type": "code",
   "execution_count": null,
   "id": "1f3e1520-81fd-4043-863b-72d53ac6f7cf",
   "metadata": {},
   "outputs": [],
   "source": [
    "listFiles"
   ]
  },
  {
   "cell_type": "code",
   "execution_count": null,
   "id": "7218c343-aa7f-47c5-9951-ba043fb3fe4b",
   "metadata": {},
   "outputs": [],
   "source": [
    "contact1 = pd.read_csv(basePath + '---')"
   ]
  },
  {
   "cell_type": "code",
   "execution_count": null,
   "id": "c9f2a26d-dfff-4974-96ea-179b9176afb6",
   "metadata": {},
   "outputs": [],
   "source": [
    "contact1.head()"
   ]
  },
  {
   "cell_type": "code",
   "execution_count": null,
   "id": "937edad1-67d4-4bab-bf01-6a6bc1f10a2b",
   "metadata": {},
   "outputs": [],
   "source": [
    "contact1.columns"
   ]
  },
  {
   "cell_type": "code",
   "execution_count": null,
   "id": "5cefa5c9-905b-4e81-9bd4-5fa66b220c8d",
   "metadata": {},
   "outputs": [],
   "source": [
    "contact1[contact1['primarykey']=='someValue']"
   ]
  },
  {
   "cell_type": "code",
   "execution_count": null,
   "id": "010ce813-4489-45d1-a0a2-1f1506239c5e",
   "metadata": {},
   "outputs": [],
   "source": [
    "contact1['state'].isna().sum()"
   ]
  }
 ],
 "metadata": {
  "kernelspec": {
   "display_name": "Python 3 (ipykernel)",
   "language": "python",
   "name": "python3"
  },
  "language_info": {
   "codemirror_mode": {
    "name": "ipython",
    "version": 3
   },
   "file_extension": ".py",
   "mimetype": "text/x-python",
   "name": "python",
   "nbconvert_exporter": "python",
   "pygments_lexer": "ipython3",
   "version": "3.12.0"
  }
 },
 "nbformat": 4,
 "nbformat_minor": 5
}
